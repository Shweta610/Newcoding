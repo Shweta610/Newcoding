{
  "nbformat": 4,
  "nbformat_minor": 0,
  "metadata": {
    "colab": {
      "provenance": [],
      "authorship_tag": "ABX9TyN3c+6ppxk9EK8o3yLpRZ5Y",
      "include_colab_link": true
    },
    "kernelspec": {
      "name": "python3",
      "display_name": "Python 3"
    },
    "language_info": {
      "name": "python"
    }
  },
  "cells": [
    {
      "cell_type": "markdown",
      "metadata": {
        "id": "view-in-github",
        "colab_type": "text"
      },
      "source": [
        "<a href=\"https://colab.research.google.com/github/Shweta610/Newcoding/blob/main/Untitled4.ipynb\" target=\"_parent\"><img src=\"https://colab.research.google.com/assets/colab-badge.svg\" alt=\"Open In Colab\"/></a>"
      ]
    },
    {
      "cell_type": "code",
      "execution_count": 1,
      "metadata": {
        "colab": {
          "base_uri": "https://localhost:8080/"
        },
        "id": "hUNGHYdnPdRV",
        "outputId": "5b1b46a8-0837-4257-ad6e-47a221785a27"
      },
      "outputs": [
        {
          "output_type": "stream",
          "name": "stdout",
          "text": [
            "Enter your weight (kg): 30\n",
            "Enter your height (cm): 150\n",
            "Your BMI is 13.33, which is considered Underweight.\n"
          ]
        }
      ],
      "source": [
        "# Function to calculate BMI\n",
        "def calculate_bmi(weight_kg, height_cm):\n",
        "    # Convert height from centimeters to meters\n",
        "    height_m = height_cm / 100.0\n",
        "\n",
        "    # Calculate BMI\n",
        "    bmi = weight_kg / (height_m ** 2)\n",
        "\n",
        "    return bmi\n",
        "\n",
        "# Function to assess BMI\n",
        "def assess_bmi(bmi):\n",
        "    if bmi < 18.5:\n",
        "        return \"Underweight\"\n",
        "    elif 18.5 <= bmi < 24.9:\n",
        "        return \"Normal Weight\"\n",
        "    elif 25.0 <= bmi < 29.9:\n",
        "        return \"Overweight\"\n",
        "    else:\n",
        "        return \"Obese\"\n",
        "\n",
        "# Input weight (in kilograms) and height (in centimeters)\n",
        "weight = float(input(\"Enter your weight (kg): \"))\n",
        "height = float(input(\"Enter your height (cm): \"))\n",
        "\n",
        "# Calculate BMI\n",
        "bmi = calculate_bmi(weight, height)\n",
        "\n",
        "# Assess BMI\n",
        "assessment = assess_bmi(bmi)\n",
        "\n",
        "# Display the result\n",
        "print(f\"Your BMI is {bmi:.2f}, which is considered {assessment}.\")"
      ]
    }
  ]
}